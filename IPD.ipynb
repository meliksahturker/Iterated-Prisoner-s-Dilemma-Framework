{
 "cells": [
  {
   "cell_type": "code",
   "execution_count": 50,
   "metadata": {},
   "outputs": [],
   "source": [
    "import pandas as pd\n",
    "import numpy as np\n",
    "import matplotlib.pyplot as plt\n",
    "import seaborn as sns\n",
    "import concurrent.futures\n",
    "import itertools"
   ]
  },
  {
   "cell_type": "code",
   "execution_count": 51,
   "metadata": {},
   "outputs": [],
   "source": [
    "S = 0\n",
    "P = 1\n",
    "R = 3\n",
    "T = 5"
   ]
  },
  {
   "cell_type": "code",
   "execution_count": 52,
   "metadata": {},
   "outputs": [],
   "source": [
    "class Agent:\n",
    "    def __init__(self, index, memory = [], coop_rate = None, earnings = 0, strategy = None, memory_size = 10):\n",
    "        if coop_rate is None:\n",
    "            coop_rate = np.random.uniform(low = 0, high = 1) # np.random.randint(0, 2)\n",
    "            strategy = np.random.randint(0, 6)\n",
    "            \n",
    "        self.coop_rate = coop_rate   #/ro, probability of cooperation\n",
    "        self.earnings = 0\n",
    "        self.index = index\n",
    "        self.memory = []\n",
    "        self.strategy = strategy\n",
    "        self.memory_size = memory_size\n",
    "    \n",
    "    \n",
    "    # Strategies\n",
    "    # 0: Forgets Randomly\n",
    "    # 1: Forgets Cooperators First\n",
    "    # 2: Forgets Defectors First\n",
    "    # 3: Forgets Closest to 0.5 first\n",
    "    # 4: Forget minority regardless of C/D\n",
    "    # 5: Forget majority regardless of C/D\n",
    "    \n",
    "    def open_space_in_memory(self):\n",
    "        df_memory = pd.DataFrame(self.memory)\n",
    "        \n",
    "        if self.strategy == 0:\n",
    "            agent_to_forget = df_memory.groupby(0).count().sample(1).index.values[0]\n",
    "            \n",
    "        elif self.strategy == 1:\n",
    "            agent_to_forget = df_memory.groupby(0).mean().idxmax().values[0]\n",
    "            \n",
    "        elif self.strategy == 2:\n",
    "            agent_to_forget = df_memory.groupby(0).mean().idxmin().values[0]\n",
    "            \n",
    "        elif self.strategy == 3:\n",
    "            agent_to_forget = df_memory.groupby(0).mean().sub(0.5).abs().idxmin().values[0]\n",
    "\n",
    "        elif self.strategy == 4:\n",
    "            agent_to_forget = df_memory.groupby(0).count().iloc[::, 0].idxmin()\n",
    "            \n",
    "        elif self.strategy == 5:\n",
    "            agent_to_forget = df_memory.groupby(0).count().iloc[::, 0].idxmax()\n",
    "         \n",
    "        self.memory = df_memory[df_memory[0] != agent_to_forget].values.tolist()\n",
    "        \n",
    "    def return_memory(self):\n",
    "        df = pd.DataFrame(self.memory, columns = ['opponent', 'did_cooperate'])\n",
    "        return df"
   ]
  },
  {
   "cell_type": "code",
   "execution_count": 55,
   "metadata": {
    "scrolled": true
   },
   "outputs": [
    {
     "name": "stdout",
     "output_type": "stream",
     "text": [
      "CPU times: user 0 ns, sys: 0 ns, total: 0 ns\n",
      "Wall time: 17.4 µs\n"
     ]
    }
   ],
   "source": [
    "%%time\n",
    "def IPD(arg_pair):\n",
    "\n",
    "    memory_ratio = arg_pair[0]\n",
    "    iterations = arg_pair[1]\n",
    "    number_of_agents = arg_pair[2]\n",
    "    memory_size = int(number_of_agents * memory_ratio) \n",
    "    \n",
    "    # Initialize Agents\n",
    "    agents = []\n",
    "    for i in range(number_of_agents):\n",
    "        agents.append(Agent(index = i, memory_size = memory_size))\n",
    "\n",
    "    # IPD\n",
    "    number_of_games = 0\n",
    "    for iteration in range(iterations):\n",
    "\n",
    "        # Select two agents randomly\n",
    "        first_agent = np.random.randint(0, number_of_agents)\n",
    "        second_agent = np.random.randint(0, number_of_agents)\n",
    "        #first_agent = 0\n",
    "        #second_agent = 3\n",
    "\n",
    "        while first_agent == second_agent:\n",
    "            second_agent = np.random.randint(0, number_of_agents)\n",
    "\n",
    "        # Will they play?\n",
    "        \n",
    "        # If first agent has a memory\n",
    "        if agents[first_agent].memory_size > 0:\n",
    "            memory_of_first = agents[first_agent].return_memory()\n",
    "            # If first agent does NOT know the second agent, or knows it as cooperator, first_agent_plays = True\n",
    "            if ((second_agent in memory_of_first['opponent'].values) == False) or (memory_of_first.groupby('opponent').mean().loc[second_agent].values[0] >= 0.5):\n",
    "                first_agent_plays = True\n",
    "            else:\n",
    "                first_agent_plays = False\n",
    "        # In absence of memory, they always play\n",
    "        else:\n",
    "            first_agent_plays = True\n",
    "        \n",
    "        # If second agent has a memory\n",
    "        if agents[second_agent].memory_size > 0:\n",
    "            # If second agent does NOT know the first agent, or knows it as cooperator, second_agent_plays = True\n",
    "            memory_of_second = agents[second_agent].return_memory()\n",
    "            if ((first_agent in memory_of_second['opponent'].values) == False) or (memory_of_second.groupby('opponent').mean().loc[first_agent].values[0] >= 0.5):\n",
    "                second_agent_plays = True\n",
    "            else:\n",
    "                second_agent_plays = False\n",
    "                \n",
    "        # In absence of memory, they always play\n",
    "        else:\n",
    "            second_agent_plays = True\n",
    "                \n",
    "\n",
    "        # If they play\n",
    "        if first_agent_plays & second_agent_plays:\n",
    "            number_of_games+=1\n",
    "            # Check and open room in memory:\n",
    "            # First agent:\n",
    "            if (agents[first_agent].memory_size > 0):\n",
    "                if (memory_of_first.groupby('opponent').count().shape[0] >= agents[first_agent].memory_size):\n",
    "                    agents[first_agent].open_space_in_memory()\n",
    "            \n",
    "            # Second agent\n",
    "            if (agents[second_agent].memory_size > 0):\n",
    "                \n",
    "                if (memory_of_second.groupby('opponent').count().shape[0] >= agents[second_agent].memory_size):\n",
    "                    agents[second_agent].open_space_in_memory()\n",
    "\n",
    "\n",
    "            # Decide whether they will coop or defect depending on their character\n",
    "            # first_agent\n",
    "            rand_number = np.random.uniform(low = 0, high = 1)\n",
    "            if rand_number < agents[first_agent].coop_rate:\n",
    "                first_will_coop = True\n",
    "            else:\n",
    "                first_will_coop = False\n",
    "\n",
    "\n",
    "            # second_agent\n",
    "            rand_number = np.random.uniform(low = 0, high = 1)\n",
    "            if rand_number < agents[second_agent].coop_rate:\n",
    "                second_will_coop = True\n",
    "            else:\n",
    "                second_will_coop = False\n",
    "\n",
    "\n",
    "            # Update their earning and memory\n",
    "\n",
    "            if (first_will_coop == True) and (second_will_coop == True):\n",
    "                agents[first_agent].earnings += R\n",
    "                agents[second_agent].earnings += R\n",
    "\n",
    "                if (agents[first_agent].memory_size > 0):\n",
    "                    agents[first_agent].memory.append([second_agent, 1])\n",
    "                if (agents[second_agent].memory_size > 0):    \n",
    "                    agents[second_agent].memory.append([first_agent, 1])\n",
    "\n",
    "            elif (first_will_coop == True) and (second_will_coop == False):\n",
    "                agents[first_agent].earnings += S\n",
    "                agents[second_agent].earnings += T\n",
    "\n",
    "                if (agents[first_agent].memory_size > 0):\n",
    "                    agents[first_agent].memory.append([second_agent, 0])\n",
    "                if (agents[second_agent].memory_size > 0):    \n",
    "                    agents[second_agent].memory.append([first_agent, 1])\n",
    "\n",
    "            elif (first_will_coop == False) and (second_will_coop == True):\n",
    "                agents[first_agent].earnings += T\n",
    "                agents[second_agent].earnings += S\n",
    "\n",
    "                if (agents[first_agent].memory_size > 0):\n",
    "                    agents[first_agent].memory.append([second_agent, 1])\n",
    "                if (agents[second_agent].memory_size > 0):    \n",
    "                    agents[second_agent].memory.append([first_agent, 0])\n",
    "\n",
    "            else:\n",
    "                agents[first_agent].earnings += P\n",
    "                agents[second_agent].earnings += P\n",
    "\n",
    "                if (agents[first_agent].memory_size > 0):\n",
    "                    agents[first_agent].memory.append([second_agent, 0])\n",
    "                if (agents[second_agent].memory_size > 0):    \n",
    "                    agents[second_agent].memory.append([first_agent, 0])\n",
    "\n",
    "\n",
    "        # they dont play\n",
    "        else:\n",
    "            continue\n",
    "\n",
    "\n",
    "    earnings_of_cooperators = []\n",
    "    earnings_of_defectors = []\n",
    "    for agent in agents:\n",
    "        if agent.coop_rate >= 0.5:\n",
    "            earnings_of_cooperators.append(agent.earnings)\n",
    "        else:\n",
    "            earnings_of_defectors.append(agent.earnings)\n",
    "    \n",
    "    earning_ratio = np.mean(earnings_of_cooperators) / (np.mean(earnings_of_defectors) + np.mean(earnings_of_cooperators))\n",
    "    \n",
    "    return [memory_ratio, earning_ratio, number_of_games, memory_size]"
   ]
  },
  {
   "cell_type": "code",
   "execution_count": 97,
   "metadata": {
    "scrolled": false
   },
   "outputs": [
    {
     "name": "stdout",
     "output_type": "stream",
     "text": [
      "CPU times: user 76 ms, sys: 764 ms, total: 840 ms\n",
      "Wall time: 3min 4s\n"
     ]
    },
    {
     "data": {
      "text/plain": [
       "<matplotlib.axes._subplots.AxesSubplot at 0x7f1ded5a5fd0>"
      ]
     },
     "execution_count": 97,
     "metadata": {},
     "output_type": "execute_result"
    },
    {
     "data": {
      "image/png": "[encoded data removed]",
      "text/plain": [
       "<Figure size 432x288 with 1 Axes>"
      ]
     },
     "metadata": {
      "needs_background": "light"
     },
     "output_type": "display_data"
    }
   ],
   "source": [
    "%%time\n",
    "main_list = []\n",
    "list_memory_ratio = np.arange(0, 1.1, 0.1).tolist()\n",
    "list_iterations = [25000]\n",
    "number_of_agents = [50]\n",
    "list_arg_pair = list(itertools.product(list_memory_ratio, list_iterations, number_of_agents))\n",
    "\n",
    "with concurrent.futures.ProcessPoolExecutor(max_workers = 64) as executor:\n",
    "    for returned_object in executor.map(IPD, list_arg_pair):\n",
    "        main_list.append(returned_object)\n",
    "\n",
    "df = pd.DataFrame(main_list, columns = ['memory_ratio', 'earnings_ratio', 'number_of_games', 'memory_size'])\n",
    "df[['memory_ratio', 'earnings_ratio']].set_index('memory_ratio').sort_index().plot(title = str(number_of_agents[0]) + \" Agents, \" + str(list_iterations[0]) + \" iterations\")"
   ]
  },
  {
   "cell_type": "code",
   "execution_count": 100,
   "metadata": {},
   "outputs": [
    {
     "name": "stdout",
     "output_type": "stream",
     "text": [
      "CPU times: user 120 ms, sys: 796 ms, total: 916 ms\n",
      "Wall time: 30min 29s\n"
     ]
    },
    {
     "data": {
      "text/plain": [
       "<matplotlib.axes._subplots.AxesSubplot at 0x7f1ded35df90>"
      ]
     },
     "execution_count": 100,
     "metadata": {},
     "output_type": "execute_result"
    },
    {
     "data": {
      "image/png": "[encoded data removed]",
      "text/plain": [
       "<Figure size 432x288 with 1 Axes>"
      ]
     },
     "metadata": {
      "needs_background": "light"
     },
     "output_type": "display_data"
    }
   ],
   "source": [
    "%%time\n",
    "main_list = []\n",
    "list_memory_ratio = np.arange(0, 1.1, 0.1).tolist()\n",
    "list_iterations = [250000]\n",
    "number_of_agents = [100]\n",
    "list_arg_pair = list(itertools.product(list_memory_ratio, list_iterations, number_of_agents))\n",
    "\n",
    "with concurrent.futures.ProcessPoolExecutor(max_workers = 64) as executor:\n",
    "    for returned_object in executor.map(IPD, list_arg_pair):\n",
    "        main_list.append(returned_object)\n",
    "\n",
    "df = pd.DataFrame(main_list, columns = ['memory_ratio', 'earnings_ratio', 'number_of_games', 'memory_size'])\n",
    "df[['memory_ratio', 'earnings_ratio']].set_index('memory_ratio').sort_index().plot(title = str(number_of_agents[0]) + \" Agents, \" + str(list_iterations[0]) + \" iterations\")"
   ]
  },
  {
   "cell_type": "code",
   "execution_count": null,
   "metadata": {},
   "outputs": [],
   "source": []
  }
 ],
 "metadata": {
  "kernelspec": {
   "display_name": "Python 3",
   "language": "python",
   "name": "python3"
  },
  "language_info": {
   "codemirror_mode": {
    "name": "ipython",
    "version": 3
   },
   "file_extension": ".py",
   "mimetype": "text/x-python",
   "name": "python",
   "nbconvert_exporter": "python",
   "pygments_lexer": "ipython3",
   "version": "3.7.7"
  },
  "varInspector": {
   "cols": {
    "lenName": 16,
    "lenType": 16,
    "lenVar": 40
   },
   "kernels_config": {
    "python": {
     "delete_cmd_postfix": "",
     "delete_cmd_prefix": "del ",
     "library": "var_list.py",
     "varRefreshCmd": "print(var_dic_list())"
    },
    "r": {
     "delete_cmd_postfix": ") ",
     "delete_cmd_prefix": "rm(",
     "library": "var_list.r",
     "varRefreshCmd": "cat(var_dic_list()) "
    }
   },
   "types_to_exclude": [
    "module",
    "function",
    "builtin_function_or_method",
    "instance",
    "_Feature"
   ],
   "window_display": false
  }
 },
 "nbformat": 4,
 "nbformat_minor": 4
}
